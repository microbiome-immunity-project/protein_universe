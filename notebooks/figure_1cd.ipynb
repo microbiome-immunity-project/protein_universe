{
 "cells": [
  {
   "cell_type": "markdown",
   "id": "68d94512-354e-4a10-a118-fd5b92c93431",
   "metadata": {},
   "source": [
    "# Figure 1"
   ]
  },
  {
   "cell_type": "markdown",
   "id": "d596bd60-ed48-4c45-8d11-f84958fc74e5",
   "metadata": {},
   "source": [
    "The code below has been used to create Figure 1c and 1d in [the main paper](https://www.biorxiv.org/content/10.1101/2022.03.18.484903v2) as well as Figures S37-S43 and S46 in the [supplement](https://www.biorxiv.org/content/10.1101/2022.03.18.484903v2.supplementary-material).\n",
    "\n",
    "Contact: pawel.szczerbiak@uj.edu.pl or p.szczerbiak@gmail.com"
   ]
  },
  {
   "cell_type": "markdown",
   "id": "ea4c3abe-07a3-47fc-a270-bb1fd14863a8",
   "metadata": {},
   "source": [
    "## Setting environment"
   ]
  },
  {
   "cell_type": "markdown",
   "id": "bd73e8da-640b-4304-bf8d-ca54efd169cc",
   "metadata": {},
   "source": [
    "Before running other cells, run the commands below in the terminal and activate the  `<env_name>` kernel in this notebook:\n",
    "\n",
    "`conda create -n <env_name> -c bioconda -c conda-forge emperor umap-learn numpy ipykernel`  \n",
    "`conda activate <env_name>`  \n",
    "`ipython kernel install --user --name=<env_name>`\n",
    "\n",
    "Alternatively, one can use `virtualenv` instead of `conda` package manager."
   ]
  },
  {
   "cell_type": "code",
   "execution_count": 1,
   "id": "f1f38970-e9da-4561-ac2a-93008234a4e9",
   "metadata": {},
   "outputs": [
    {
     "name": "stderr",
     "output_type": "stream",
     "text": [
      "/home/MCB/pszczerbiak/miniconda3/envs/emperor/lib/python3.9/site-packages/tqdm/auto.py:22: TqdmWarning: IProgress not found. Please update jupyter and ipywidgets. See https://ipywidgets.readthedocs.io/en/stable/user_install.html\n",
      "  from .autonotebook import tqdm as notebook_tqdm\n"
     ]
    }
   ],
   "source": [
    "import pickle\n",
    "import umap\n",
    "import numpy as np\n",
    "import pandas as pd\n",
    "import matplotlib as mpl\n",
    "import matplotlib.pyplot as plt\n",
    "\n",
    "from pathlib import Path\n",
    "from sklearn.decomposition import PCA\n",
    "from scipy.stats import pearsonr\n",
    "from emperor import Emperor, nbinstall, scatterplot\n",
    "from mpl_toolkits.axes_grid1 import ImageGrid"
   ]
  },
  {
   "cell_type": "markdown",
   "id": "1ae433a0-16a8-4496-9844-6d84d0e2cfbf",
   "metadata": {},
   "source": [
    "## Global paths"
   ]
  },
  {
   "cell_type": "markdown",
   "id": "1025dc03-723b-43e7-9689-9b2aebee8feb",
   "metadata": {},
   "source": [
    "**NOTE:** change the paths below appropriately.  \n",
    "The first one should point to the `intermediate_data` folder downloded from the [Zenodo](https://zenodo.org/record/6477242#.Yoyp1PNBxqs) website."
   ]
  },
  {
   "cell_type": "code",
   "execution_count": 2,
   "id": "24d5de90-12e0-4cd9-9660-c5572a58fdc3",
   "metadata": {},
   "outputs": [],
   "source": [
    "MAIN_DIR = Path('/path/to/intermediate_data/')\n",
    "OUT_DIR = Path('./')  # current notebook directory"
   ]
  },
  {
   "cell_type": "markdown",
   "id": "2033b99d-2143-4888-8838-dc5f372ea641",
   "metadata": {
    "jp-MarkdownHeadingCollapsed": true,
    "tags": []
   },
   "source": [
    "## Embeddings generation\n",
    "\n",
    "In order to generate data stored in `embeddings` folder we need to perform the following steps (to be done for all structures in `MIP_visualization` dataset):\n",
    "\n",
    "- First, we generate a contact map (`pt` file) from a `pdb` file e.g. using [this](https://github.com/djberenberg/characterizing-gcns/blob/master/mkdmap.py) script:\n",
    "\n",
    "`python mkdmap.py pdb_dir/input.pdb input.pt`\n",
    "\n",
    "- Second, we construct embedding as normalized graphlet counts using [this](https://github.com/djberenberg/graphletcounts) Github repository:\n",
    "\n",
    "`python count_graphlets.py -mode grafene -t 6 input.pt input.npz`\n",
    "\n",
    "- All embeddings (from specific group ie. `rosetta`, `dmpfold`, `cath`) may be then merged into a single `npz` file using:\n",
    "\n",
    "`reduce_graphlets.py --output-npz output.npz list.txt input_dir`\n",
    "\n",
    "where `input_dir` stores all the individual `npz` files."
   ]
  },
  {
   "cell_type": "markdown",
   "id": "33c1c045-5d6a-4fff-904b-5f5d8f40231d",
   "metadata": {},
   "source": [
    "## Metadata generation\n",
    "\n",
    "`embeddings/metadata.csv` file was created by filtering (only `MIP_visualization` indices were used) and merging `pkl` files in the `metadata` folder."
   ]
  },
  {
   "cell_type": "markdown",
   "id": "f0ce4c77-b4ac-4362-b2bd-56cd2b79df71",
   "metadata": {},
   "source": [
    "## Load embeddings and metadata"
   ]
  },
  {
   "cell_type": "code",
   "execution_count": 3,
   "id": "acaec36f-c9a5-4a07-bc4e-e761186ce998",
   "metadata": {},
   "outputs": [],
   "source": [
    "data_cath_repr = np.load(MAIN_DIR / 'embeddings' / 'cath_viz.npz')\n",
    "data_rosetta = np.load(MAIN_DIR / 'embeddings' / 'rosetta_viz.npz')\n",
    "data_dmpfold = np.load(MAIN_DIR / 'embeddings' / 'dmpfold_viz.npz')"
   ]
  },
  {
   "cell_type": "code",
   "execution_count": 4,
   "id": "9dac91b5-8368-4ad0-ac0f-c6597739a914",
   "metadata": {},
   "outputs": [],
   "source": [
    "metadata = pickle.load(open(MAIN_DIR /'embeddings' / 'metadata_viz.pkl', 'rb'))"
   ]
  },
  {
   "cell_type": "markdown",
   "id": "3d5322a9-dff4-42de-805f-fbcd163bda00",
   "metadata": {},
   "source": [
    "## Dimensionality reduction "
   ]
  },
  {
   "cell_type": "markdown",
   "id": "9482e125-5ecc-44af-8581-cfd50b1d724b",
   "metadata": {},
   "source": [
    "#### Merge indices"
   ]
  },
  {
   "cell_type": "code",
   "execution_count": 5,
   "id": "7343b25e-24ef-424c-8749-23fbe3c5c330",
   "metadata": {},
   "outputs": [],
   "source": [
    "index = list(data_cath_repr['proteins']) + \\\n",
    "        list(map(lambda x: f'{x}_ros', data_rosetta['proteins'])) + \\\n",
    "        list(map(lambda x: f'{x}_dmp', data_dmpfold['proteins']))"
   ]
  },
  {
   "cell_type": "markdown",
   "id": "cd53f91c-ed54-4bca-8768-518560705dfa",
   "metadata": {},
   "source": [
    "#### Consider only even graphlet counts - odd ones are linearly dependent"
   ]
  },
  {
   "cell_type": "code",
   "execution_count": 6,
   "id": "bb4d2b38-abcd-45e3-9e1f-ddc630035622",
   "metadata": {},
   "outputs": [],
   "source": [
    "embed_cath = data_cath_repr['features'][1, :, 1:84:2]\n",
    "embed_rosetta = data_rosetta['features'][1, :, 1:84:2]\n",
    "embed_dmpfold = data_dmpfold['features'][1, :, 1:84:2]\n",
    "embed_all = np.vstack([embed_cath, embed_rosetta, embed_dmpfold])"
   ]
  },
  {
   "cell_type": "markdown",
   "id": "49ec1393-8e37-47ea-abb3-33202ce9fec3",
   "metadata": {},
   "source": [
    "### PCA"
   ]
  },
  {
   "cell_type": "code",
   "execution_count": 7,
   "id": "0a60274e-7032-4d57-98fd-d16a71ac1084",
   "metadata": {},
   "outputs": [],
   "source": [
    "columns_pca = [\"PCA x\", \"PCA y\", \"PCA z\"]"
   ]
  },
  {
   "cell_type": "code",
   "execution_count": 8,
   "id": "bf0f83b5-5c80-49c1-9712-8c4df50d5ac1",
   "metadata": {},
   "outputs": [],
   "source": [
    "model = PCA(n_components=3).fit_transform(embed_all)\n",
    "df = pd.DataFrame(data=model, index=index, columns=columns_pca)\n",
    "pickle.dump(df, open(OUT_DIR / f'pca.pkl', 'wb'))"
   ]
  },
  {
   "cell_type": "markdown",
   "id": "176b9fc4-8bcb-42d1-b13b-cbfc82247efb",
   "metadata": {},
   "source": [
    "### UMAP"
   ]
  },
  {
   "cell_type": "code",
   "execution_count": 9,
   "id": "ff5345b3-a359-474b-8c02-0648d4dcab22",
   "metadata": {},
   "outputs": [],
   "source": [
    "columns_umap = [\"UMAP x\", \"UMAP y\", \"UMAP z\"]\n",
    "# the following parameters have been chosen by grid search and subsequent manual inspection\n",
    "metric, n_neighbors, min_dist = 'cosine', 100, 0.001\n",
    "params_txt = \"_\".join(map(str, [metric, n_neighbors, min_dist]))"
   ]
  },
  {
   "cell_type": "code",
   "execution_count": 10,
   "id": "24d8a408-5847-4724-81c7-56e7c937a967",
   "metadata": {},
   "outputs": [],
   "source": [
    "model = umap.UMAP(n_components=3, metric=metric, n_neighbors=n_neighbors, \n",
    "                min_dist=min_dist, transform_seed=12).fit(np.vstack(embed_all))\n",
    "df = pd.DataFrame(data=model.embedding_, index=index, columns=columns_umap)\n",
    "pickle.dump(df, open(OUT_DIR / f'umap_{params_txt}.pkl', 'wb'))"
   ]
  },
  {
   "cell_type": "markdown",
   "id": "f5752a7c-93a5-42ee-8546-6c65bf908374",
   "metadata": {},
   "source": [
    "## Emperor"
   ]
  },
  {
   "cell_type": "code",
   "execution_count": 11,
   "id": "5b99177e-b8eb-42bd-9bfa-e39bba7a63ca",
   "metadata": {},
   "outputs": [],
   "source": [
    "# UMAP & PCA coordinates\n",
    "df = pickle.load(open(OUT_DIR / f'umap_{params_txt}.pkl', 'rb')).\\\n",
    "join(pickle.load(open(OUT_DIR / f'pca.pkl', 'rb')), how='inner')\n",
    "# metadata\n",
    "df = df.join(metadata, how='inner')\n",
    "# emperor viz\n",
    "emp = scatterplot(df.fillna('NaN'), x='UMAP x', y='UMAP y', z='UMAP z', remote='True')\n",
    "emp.base_url = 'https://cdn.rawgit.com/biocore/emperor/new-api/emperor/support_files'\n",
    "filename = OUT_DIR /  f'protein_universe_viz_pca_umap_{params_txt}.html'\n",
    "with open(filename, 'w') as f:\n",
    "    f.write(emp.make_emperor(standalone=True))"
   ]
  },
  {
   "cell_type": "markdown",
   "id": "183c327a-a7ca-43e3-b767-460b029c4512",
   "metadata": {},
   "source": [
    "Open the output `html` file and generate plots as in the paper - Emperor API is very intuitive."
   ]
  },
  {
   "cell_type": "markdown",
   "id": "7d6710ae-bf3f-45e6-8682-d03665bb65a2",
   "metadata": {},
   "source": [
    "## Figure S47\n",
    "### Sanity check - Euclidean distance vs agreement TM-score"
   ]
  },
  {
   "cell_type": "code",
   "execution_count": 12,
   "id": "0280b32a-96ee-44e1-9ba9-6184cea5c392",
   "metadata": {},
   "outputs": [],
   "source": [
    "def euclidean_distance_vector(X):\n",
    "    \"\"\"Returns Eucidean distance along rows.\"\"\"\n",
    "    return np.sqrt(np.sum((X)**2, axis=1))"
   ]
  },
  {
   "cell_type": "code",
   "execution_count": 13,
   "id": "f814f2ee-6fbb-4bf2-9dba-ec669e147edd",
   "metadata": {},
   "outputs": [],
   "source": [
    "df_ros = df.iloc[len(data_cath_repr['proteins']):len(data_cath_repr['proteins'])+len(data_rosetta['proteins'])]\n",
    "df_dmp = df.iloc[len(data_cath_repr['proteins'])+len(data_rosetta['proteins']):]\n",
    "df_ros = df_ros[columns_umap + columns_pca + ['Agreement TM-score']].reset_index()\n",
    "df_dmp = df_dmp[columns_umap + columns_pca + ['Agreement TM-score']].reset_index()\n",
    "df_joined = df_ros.join(df_dmp, rsuffix='_dmp')"
   ]
  },
  {
   "cell_type": "code",
   "execution_count": 14,
   "id": "dd1d29c4-4cc6-4e1e-9d2d-27d4ba3079ac",
   "metadata": {},
   "outputs": [],
   "source": [
    "compared = pd.DataFrame(df_ros['Agreement TM-score'])\n",
    "compared['diff PCA'] = euclidean_distance_vector(df_joined[columns_pca].values - df_joined[[col + '_dmp' for col in columns_pca]])\n",
    "compared['diff UMAP'] = euclidean_distance_vector(df_joined[columns_umap].values - df_joined[[col + '_dmp' for col in columns_umap]])"
   ]
  },
  {
   "cell_type": "code",
   "execution_count": 15,
   "id": "999afcfe-ac94-407e-a19a-9d90894b73d1",
   "metadata": {},
   "outputs": [],
   "source": [
    "compared['diff PCA'] = compared['diff PCA'] / compared['diff PCA'].max()\n",
    "compared['diff UMAP'] = compared['diff UMAP'] / compared['diff UMAP'].max()"
   ]
  },
  {
   "cell_type": "code",
   "execution_count": 16,
   "id": "aaff4745-67a1-4230-8d6f-dd8fc3f1a67a",
   "metadata": {},
   "outputs": [
    {
     "data": {
      "image/png": "[encoded data removed]",
      "text/plain": [
       "<Figure size 864x360 with 3 Axes>"
      ]
     },
     "metadata": {
      "needs_background": "light"
     },
     "output_type": "display_data"
    }
   ],
   "source": [
    "fig = plt.figure(figsize=(12, 5))\n",
    "labels = ['UMAP', 'PCA']\n",
    "cols = ['diff UMAP', 'diff PCA']\n",
    "for i in range(len(cols)):\n",
    "    ax = plt.subplot(1, 2, i+1)\n",
    "    x, y = compared['Agreement TM-score'], compared[cols[i]]\n",
    "    plt.hist2d(x, y, (100, 100), norm=mpl.colors.LogNorm(), cmap=plt.cm.jet)\n",
    "    corr = pearsonr(x, y)\n",
    "    plt.text(0.8, 0.9, f'R={corr[0]:.2f}', color='r')\n",
    "    plt.axvline(x=0.5, color='r', linestyle='--')\n",
    "    if i == 1:\n",
    "        cbar=plt.colorbar()\n",
    "        cbar.ax.set_ylabel('Number of structures')\n",
    "        cbar.set_ticks([1, 2, 5, 10, 15])\n",
    "        cbar.set_ticklabels([1, 2, 5, 10, 15])\n",
    "    if i == 0:\n",
    "        plt.ylabel('Normalized difference', fontsize=10)\n",
    "    plt.xlabel('Agreement TM-score', fontsize=10)\n",
    "    plt.title(labels[i], fontsize=10)\n",
    "    plt.xlim([0.1, 1])\n",
    "plt.suptitle('Euclidean distance between Rosetta and DMPFold points', fontsize=12)\n",
    "plt.show()"
   ]
  }
 ],
 "metadata": {
  "kernelspec": {
   "display_name": "emperor",
   "language": "python",
   "name": "emperor"
  },
  "language_info": {
   "codemirror_mode": {
    "name": "ipython",
    "version": 3
   },
   "file_extension": ".py",
   "mimetype": "text/x-python",
   "name": "python",
   "nbconvert_exporter": "python",
   "pygments_lexer": "ipython3",
   "version": "3.9.12"
  }
 },
 "nbformat": 4,
 "nbformat_minor": 5
}
